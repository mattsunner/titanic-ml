{
 "cells": [
  {
   "cell_type": "markdown",
   "metadata": {},
   "source": [
    "# Titanic ML EDA\n",
    "## Titanic Passenger Survival EDA & Data Cleaning"
   ]
  },
  {
   "cell_type": "code",
   "execution_count": 1,
   "metadata": {},
   "outputs": [],
   "source": [
    "# Imports\n",
    "\n",
    "import pandas as pd\n",
    "import numpy as np\n",
    "from sklearn.linear_model import LinearRegression\n",
    "import matplotlib.pyplot as plt"
   ]
  },
  {
   "cell_type": "markdown",
   "metadata": {},
   "source": [
    "### Data Import & DataFrame Setup\n",
    "\n",
    "Below are the variables used to import all the needed data into the EDA notebook, as well as 'pop' out the labels being sought out in the training process."
   ]
  },
  {
   "cell_type": "code",
   "execution_count": 19,
   "metadata": {},
   "outputs": [],
   "source": [
    "# Training Data\n",
    "training_file = './data/train.csv'\n",
    "training_df = pd.read_csv(training_file)\n",
    "\n",
    "training_lables = training_df.pop('Survived')\n",
    "\n",
    "# Testing Data\n",
    "testing_file = './data/test.csv'\n",
    "testing_df = pd.read_csv(testing_file)\n",
    "\n",
    "# Gender Submission Data\n",
    "gender_file = './data/gender_submission.csv'\n",
    "gender_df = pd.read_csv(gender_file)"
   ]
  },
  {
   "cell_type": "markdown",
   "metadata": {},
   "source": [
    "### Handle Errors in the Data\n",
    "\n",
    "Missing data was resolved in a variety of ways. The following assumptions and decisions were made: \n",
    "\n",
    "- **Ages**: Missing ages were filled in using the mean age of passengers with known ages. There are additional steps that could be taken to achieve closer results, such as assigning the ages by mean within Pclass, or Fare, however, the decision to use standard mean was made due to the relative lack of importance of specific age, when compared to general age groups (e.g. it is likely less important to know the exact age, but more important to know if an individual is a child, adult, or senior).\n",
    "\n",
    "- **Cabin**: Cabin data in the source file was missing in ~77.1% of the records. Due to the large number of missing values, it was decided that the cabin value would be dropped from the dataframe.\n",
    "\n",
    "- **Embarked**: Embarking location was missing on two of the records in the source file. The port of call of Southampton was assigned to these individuals, as that port had the largest group of passengers boarding. It would stand to reason that it would be statistically likely that the individuals would have boarded there. It is not believed that the results of this assignment will have any measurable effects of the outcome of the model."
   ]
  },
  {
   "cell_type": "code",
   "execution_count": 20,
   "metadata": {},
   "outputs": [],
   "source": [
    "# Handling Missing Ages\n",
    "ages = training_df['Age']\n",
    "mean_age = ages.mean()\n",
    "\n",
    "training_df['Age'] = training_df['Age'].fillna(mean_age)"
   ]
  },
  {
   "cell_type": "code",
   "execution_count": 9,
   "metadata": {},
   "outputs": [],
   "source": [
    "# Handling Missing Cabin Data\n",
    "training_df = training_df.drop('Cabin', axis=1)"
   ]
  },
  {
   "cell_type": "code",
   "execution_count": 16,
   "metadata": {},
   "outputs": [],
   "source": [
    "# Handling Missing Embarked Data\n",
    "training_df['Embarked'] = training_df['Embarked'].fillna('S')"
   ]
  },
  {
   "cell_type": "code",
   "execution_count": 21,
   "metadata": {
    "scrolled": true
   },
   "outputs": [
    {
     "name": "stdout",
     "output_type": "stream",
     "text": [
      "<class 'pandas.core.frame.DataFrame'>\n",
      "RangeIndex: 891 entries, 0 to 890\n",
      "Data columns (total 11 columns):\n",
      " #   Column       Non-Null Count  Dtype  \n",
      "---  ------       --------------  -----  \n",
      " 0   PassengerId  891 non-null    int64  \n",
      " 1   Pclass       891 non-null    int64  \n",
      " 2   Name         891 non-null    object \n",
      " 3   Sex          891 non-null    object \n",
      " 4   Age          891 non-null    float64\n",
      " 5   SibSp        891 non-null    int64  \n",
      " 6   Parch        891 non-null    int64  \n",
      " 7   Ticket       891 non-null    object \n",
      " 8   Fare         891 non-null    float64\n",
      " 9   Cabin        204 non-null    object \n",
      " 10  Embarked     889 non-null    object \n",
      "dtypes: float64(2), int64(4), object(5)\n",
      "memory usage: 76.7+ KB\n"
     ]
    }
   ],
   "source": [
    "# Output Info of the Cleaned Training DataFrame\n",
    "training_df.info()"
   ]
  }
 ],
 "metadata": {
  "kernelspec": {
   "display_name": "Python 3",
   "language": "python",
   "name": "python3"
  },
  "language_info": {
   "codemirror_mode": {
    "name": "ipython",
    "version": 3
   },
   "file_extension": ".py",
   "mimetype": "text/x-python",
   "name": "python",
   "nbconvert_exporter": "python",
   "pygments_lexer": "ipython3",
   "version": "3.8.5"
  }
 },
 "nbformat": 4,
 "nbformat_minor": 4
}
